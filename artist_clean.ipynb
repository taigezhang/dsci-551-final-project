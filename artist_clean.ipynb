{
 "cells": [
  {
   "cell_type": "code",
   "execution_count": 15,
   "id": "e96150a9",
   "metadata": {},
   "outputs": [
    {
     "name": "stdout",
     "output_type": "stream",
     "text": [
      "   Artist ID             Name Nationality Gender  Birth Year  Death Year\n",
      "0          1   Robert Arneson    American   Male      1930.0      1992.0\n",
      "1          2   Doroteo Arnaiz     Spanish   Male      1936.0         NaN\n",
      "2          3      Bill Arnold    American   Male      1941.0         NaN\n",
      "3          4  Charles Arnoldi    American   Male      1946.0         NaN\n",
      "4          5      Per Arnoldi      Danish   Male      1941.0         NaN\n",
      "Artist ID          0\n",
      "Name               0\n",
      "Nationality     2488\n",
      "Gender          3072\n",
      "Birth Year      3854\n",
      "Death Year     10512\n",
      "dtype: int64\n",
      "Artist ID        int64\n",
      "Name            object\n",
      "Nationality     object\n",
      "Gender          object\n",
      "Birth Year     float64\n",
      "Death Year     float64\n",
      "dtype: object\n",
      "0\n",
      "          Artist ID    Birth Year   Death Year\n",
      "count  15091.000000  11237.000000  4579.000000\n",
      "mean   18297.556027   1930.852719  1974.287399\n",
      "std    16632.963898     34.531997    31.153665\n",
      "min        1.000000   1730.000000  1795.000000\n",
      "25%     4195.500000   1910.000000  1958.000000\n",
      "50%     8593.000000   1936.000000  1980.000000\n",
      "75%    33088.500000   1956.000000  1998.000000\n",
      "max    67695.000000   2012.000000  2017.000000\n"
     ]
    }
   ],
   "source": [
    "import pandas as pd\n",
    "\n",
    "df = pd.read_csv('artists.csv')\n",
    "\n",
    "print(df.head())\n",
    "\n",
    "print(df.isnull().sum())\n",
    "\n",
    "print(df.dtypes)\n",
    "\n",
    "print(df.duplicated().sum())\n",
    "\n",
    "print(df.describe())\n",
    "\n",
    "# Fill missing values with a placeholder for categorical columns\n",
    "df['Nationality'].fillna('Unknown', inplace=True)\n",
    "df['Gender'].fillna('Unknown', inplace=True)\n",
    "\n",
    "# Fill missing values with the median for the 'Birth Year' column\n",
    "df['Birth Year'].fillna(df['Birth Year'].median(), inplace=True)\n",
    "\n",
    "df.drop_duplicates(inplace=True)\n",
    "\n",
    "# Convert 'Birth Year' to integer\n",
    "df['Birth Year'] = df['Birth Year'].astype(int)\n",
    "\n",
    "# Fill missing years with -1\n",
    "df['Death Year'] = df['Death Year'].fillna(-1).astype(int) \n",
    "\n",
    "# Ensure 'Nationality' and 'Gender' are of type 'category' to save memory\n",
    "df['Nationality'] = df['Nationality'].astype('category')\n",
    "df['Gender'] = df['Gender'].astype('category')\n",
    "\n",
    "\n",
    "df.to_csv('cleaned_artists.csv', index=False)"
   ]
  }
 ],
 "metadata": {
  "kernelspec": {
   "display_name": "Python 3 (ipykernel)",
   "language": "python",
   "name": "python3"
  },
  "language_info": {
   "codemirror_mode": {
    "name": "ipython",
    "version": 3
   },
   "file_extension": ".py",
   "mimetype": "text/x-python",
   "name": "python",
   "nbconvert_exporter": "python",
   "pygments_lexer": "ipython3",
   "version": "3.9.13"
  }
 },
 "nbformat": 4,
 "nbformat_minor": 5
}
